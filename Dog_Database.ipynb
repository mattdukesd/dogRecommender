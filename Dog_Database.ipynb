{
 "cells": [
  {
   "cell_type": "code",
   "execution_count": 1,
   "metadata": {
    "collapsed": true
   },
   "outputs": [],
   "source": [
    "import pandas as pd\n",
    "import sqlalchemy\n",
    "from sqlalchemy import create_engine, MetaData, PrimaryKeyConstraint\n",
    "from sqlalchemy.ext.declarative import declarative_base\n",
    "from sqlalchemy import Column, Integer, String, Numeric, Text, Float, ForeignKey\n",
    "from sqlalchemy.orm import sessionmaker, relationship"
   ]
  },
  {
   "cell_type": "code",
   "execution_count": 2,
   "metadata": {},
   "outputs": [
    {
     "data": {
      "text/html": [
       "<div>\n",
       "<style>\n",
       "    .dataframe thead tr:only-child th {\n",
       "        text-align: right;\n",
       "    }\n",
       "\n",
       "    .dataframe thead th {\n",
       "        text-align: left;\n",
       "    }\n",
       "\n",
       "    .dataframe tbody tr th {\n",
       "        vertical-align: top;\n",
       "    }\n",
       "</style>\n",
       "<table border=\"1\" class=\"dataframe\">\n",
       "  <thead>\n",
       "    <tr style=\"text-align: right;\">\n",
       "      <th></th>\n",
       "      <th>Unnamed: 0</th>\n",
       "      <th>ID</th>\n",
       "      <th>Sex</th>\n",
       "      <th>Age</th>\n",
       "      <th>Weight</th>\n",
       "      <th>Color</th>\n",
       "      <th>Breed</th>\n",
       "      <th>Intake Jurisdiction</th>\n",
       "      <th>Intake Date</th>\n",
       "      <th>link</th>\n",
       "    </tr>\n",
       "  </thead>\n",
       "  <tbody>\n",
       "    <tr>\n",
       "      <th>0</th>\n",
       "      <td>1</td>\n",
       "      <td>A1571111</td>\n",
       "      <td>F</td>\n",
       "      <td>2 Months</td>\n",
       "      <td>19.5 LBS</td>\n",
       "      <td>WHITE</td>\n",
       "      <td>AIREDALE TERR MIX</td>\n",
       "      <td>TUSTIN</td>\n",
       "      <td>4/15/2018</td>\n",
       "      <td>http://petadoption.ocpetinfo.com/rescuetrack/s...</td>\n",
       "    </tr>\n",
       "    <tr>\n",
       "      <th>1</th>\n",
       "      <td>2</td>\n",
       "      <td>A1571195</td>\n",
       "      <td>M</td>\n",
       "      <td>2 Years</td>\n",
       "      <td>50.4 LBS</td>\n",
       "      <td>WHITE</td>\n",
       "      <td>ALASKAN HUSKY</td>\n",
       "      <td>CYPRESS</td>\n",
       "      <td>4/16/2018</td>\n",
       "      <td>http://petadoption.ocpetinfo.com/rescuetrack/s...</td>\n",
       "    </tr>\n",
       "    <tr>\n",
       "      <th>2</th>\n",
       "      <td>3</td>\n",
       "      <td>A1559633</td>\n",
       "      <td>S</td>\n",
       "      <td>2 Years</td>\n",
       "      <td>50.0 LBS</td>\n",
       "      <td>BLUE</td>\n",
       "      <td>AM PIT BULL TER</td>\n",
       "      <td>SAN JUAN CAP</td>\n",
       "      <td>4/17/2018</td>\n",
       "      <td>http://petadoption.ocpetinfo.com/rescuetrack/s...</td>\n",
       "    </tr>\n",
       "    <tr>\n",
       "      <th>3</th>\n",
       "      <td>4</td>\n",
       "      <td>A1569453</td>\n",
       "      <td>N</td>\n",
       "      <td>6 Years</td>\n",
       "      <td>60.0 LBS</td>\n",
       "      <td>BLUE MERLE</td>\n",
       "      <td>AUST CATTLE DOG</td>\n",
       "      <td>HUNTINGTON BCH</td>\n",
       "      <td>4/4/2018</td>\n",
       "      <td>http://petadoption.ocpetinfo.com/rescuetrack/s...</td>\n",
       "    </tr>\n",
       "    <tr>\n",
       "      <th>4</th>\n",
       "      <td>5</td>\n",
       "      <td>A1571387</td>\n",
       "      <td>N</td>\n",
       "      <td>5 Years</td>\n",
       "      <td>24.2 LBS</td>\n",
       "      <td>TRICOLOR BLACK</td>\n",
       "      <td>BEAGLE</td>\n",
       "      <td>FULLERTON</td>\n",
       "      <td>4/17/2018</td>\n",
       "      <td>http://petadoption.ocpetinfo.com/rescuetrack/s...</td>\n",
       "    </tr>\n",
       "  </tbody>\n",
       "</table>\n",
       "</div>"
      ],
      "text/plain": [
       "   Unnamed: 0        ID Sex       Age    Weight           Color  \\\n",
       "0           1  A1571111   F  2 Months  19.5 LBS           WHITE   \n",
       "1           2  A1571195   M   2 Years  50.4 LBS           WHITE   \n",
       "2           3  A1559633   S   2 Years  50.0 LBS            BLUE   \n",
       "3           4  A1569453   N   6 Years  60.0 LBS      BLUE MERLE   \n",
       "4           5  A1571387   N   5 Years  24.2 LBS  TRICOLOR BLACK   \n",
       "\n",
       "               Breed Intake Jurisdiction Intake Date  \\\n",
       "0  AIREDALE TERR MIX              TUSTIN   4/15/2018   \n",
       "1      ALASKAN HUSKY             CYPRESS   4/16/2018   \n",
       "2    AM PIT BULL TER        SAN JUAN CAP   4/17/2018   \n",
       "3    AUST CATTLE DOG      HUNTINGTON BCH    4/4/2018   \n",
       "4             BEAGLE           FULLERTON   4/17/2018   \n",
       "\n",
       "                                                link  \n",
       "0  http://petadoption.ocpetinfo.com/rescuetrack/s...  \n",
       "1  http://petadoption.ocpetinfo.com/rescuetrack/s...  \n",
       "2  http://petadoption.ocpetinfo.com/rescuetrack/s...  \n",
       "3  http://petadoption.ocpetinfo.com/rescuetrack/s...  \n",
       "4  http://petadoption.ocpetinfo.com/rescuetrack/s...  "
      ]
     },
     "execution_count": 2,
     "metadata": {},
     "output_type": "execute_result"
    }
   ],
   "source": [
    "found_csv= \"Negin/found_list.csv\"\n",
    "found_df= pd.read_csv(found_csv)\n",
    "found_df.head()"
   ]
  },
  {
   "cell_type": "code",
   "execution_count": 3,
   "metadata": {
    "scrolled": true
   },
   "outputs": [
    {
     "data": {
      "text/html": [
       "<div>\n",
       "<style>\n",
       "    .dataframe thead tr:only-child th {\n",
       "        text-align: right;\n",
       "    }\n",
       "\n",
       "    .dataframe thead th {\n",
       "        text-align: left;\n",
       "    }\n",
       "\n",
       "    .dataframe tbody tr th {\n",
       "        vertical-align: top;\n",
       "    }\n",
       "</style>\n",
       "<table border=\"1\" class=\"dataframe\">\n",
       "  <thead>\n",
       "    <tr style=\"text-align: right;\">\n",
       "      <th></th>\n",
       "      <th>Pet_ID</th>\n",
       "      <th>Sex</th>\n",
       "      <th>Age</th>\n",
       "      <th>Weight</th>\n",
       "      <th>Color</th>\n",
       "      <th>Breed</th>\n",
       "      <th>Intake_Jurisdiction</th>\n",
       "      <th>Intake_Date</th>\n",
       "      <th>link</th>\n",
       "    </tr>\n",
       "  </thead>\n",
       "  <tbody>\n",
       "    <tr>\n",
       "      <th>0</th>\n",
       "      <td>A1571111</td>\n",
       "      <td>F</td>\n",
       "      <td>2 Months</td>\n",
       "      <td>19.5 LBS</td>\n",
       "      <td>WHITE</td>\n",
       "      <td>AIREDALE TERR MIX</td>\n",
       "      <td>TUSTIN</td>\n",
       "      <td>4/15/2018</td>\n",
       "      <td>http://petadoption.ocpetinfo.com/rescuetrack/s...</td>\n",
       "    </tr>\n",
       "    <tr>\n",
       "      <th>1</th>\n",
       "      <td>A1571195</td>\n",
       "      <td>M</td>\n",
       "      <td>2 Years</td>\n",
       "      <td>50.4 LBS</td>\n",
       "      <td>WHITE</td>\n",
       "      <td>ALASKAN HUSKY</td>\n",
       "      <td>CYPRESS</td>\n",
       "      <td>4/16/2018</td>\n",
       "      <td>http://petadoption.ocpetinfo.com/rescuetrack/s...</td>\n",
       "    </tr>\n",
       "    <tr>\n",
       "      <th>2</th>\n",
       "      <td>A1559633</td>\n",
       "      <td>S</td>\n",
       "      <td>2 Years</td>\n",
       "      <td>50.0 LBS</td>\n",
       "      <td>BLUE</td>\n",
       "      <td>AM PIT BULL TER</td>\n",
       "      <td>SAN JUAN CAP</td>\n",
       "      <td>4/17/2018</td>\n",
       "      <td>http://petadoption.ocpetinfo.com/rescuetrack/s...</td>\n",
       "    </tr>\n",
       "    <tr>\n",
       "      <th>3</th>\n",
       "      <td>A1569453</td>\n",
       "      <td>N</td>\n",
       "      <td>6 Years</td>\n",
       "      <td>60.0 LBS</td>\n",
       "      <td>BLUE MERLE</td>\n",
       "      <td>AUST CATTLE DOG</td>\n",
       "      <td>HUNTINGTON BCH</td>\n",
       "      <td>4/4/2018</td>\n",
       "      <td>http://petadoption.ocpetinfo.com/rescuetrack/s...</td>\n",
       "    </tr>\n",
       "    <tr>\n",
       "      <th>4</th>\n",
       "      <td>A1571387</td>\n",
       "      <td>N</td>\n",
       "      <td>5 Years</td>\n",
       "      <td>24.2 LBS</td>\n",
       "      <td>TRICOLOR BLACK</td>\n",
       "      <td>BEAGLE</td>\n",
       "      <td>FULLERTON</td>\n",
       "      <td>4/17/2018</td>\n",
       "      <td>http://petadoption.ocpetinfo.com/rescuetrack/s...</td>\n",
       "    </tr>\n",
       "  </tbody>\n",
       "</table>\n",
       "</div>"
      ],
      "text/plain": [
       "     Pet_ID Sex       Age    Weight           Color              Breed  \\\n",
       "0  A1571111   F  2 Months  19.5 LBS           WHITE  AIREDALE TERR MIX   \n",
       "1  A1571195   M   2 Years  50.4 LBS           WHITE      ALASKAN HUSKY   \n",
       "2  A1559633   S   2 Years  50.0 LBS            BLUE    AM PIT BULL TER   \n",
       "3  A1569453   N   6 Years  60.0 LBS      BLUE MERLE    AUST CATTLE DOG   \n",
       "4  A1571387   N   5 Years  24.2 LBS  TRICOLOR BLACK             BEAGLE   \n",
       "\n",
       "  Intake_Jurisdiction Intake_Date  \\\n",
       "0              TUSTIN   4/15/2018   \n",
       "1             CYPRESS   4/16/2018   \n",
       "2        SAN JUAN CAP   4/17/2018   \n",
       "3      HUNTINGTON BCH    4/4/2018   \n",
       "4           FULLERTON   4/17/2018   \n",
       "\n",
       "                                                link  \n",
       "0  http://petadoption.ocpetinfo.com/rescuetrack/s...  \n",
       "1  http://petadoption.ocpetinfo.com/rescuetrack/s...  \n",
       "2  http://petadoption.ocpetinfo.com/rescuetrack/s...  \n",
       "3  http://petadoption.ocpetinfo.com/rescuetrack/s...  \n",
       "4  http://petadoption.ocpetinfo.com/rescuetrack/s...  "
      ]
     },
     "execution_count": 3,
     "metadata": {},
     "output_type": "execute_result"
    }
   ],
   "source": [
    "adoption_df= found_df.rename(columns={\"ID\":\"Pet_ID\", \"Intake Jurisdiction\": \"Intake_Jurisdiction\", \"Intake Date\":\"Intake_Date\"})\n",
    "adoption_df= adoption_df[[\"Pet_ID\",\"Sex\",\"Age\",\"Weight\",\"Color\",\"Breed\",\"Intake_Jurisdiction\", \"Intake_Date\", \"link\"]]\n",
    "adoption_df= adoption_df.fillna(0)\n",
    "adoption_df.head()"
   ]
  },
  {
   "cell_type": "code",
   "execution_count": 4,
   "metadata": {
    "collapsed": true
   },
   "outputs": [],
   "source": [
    "engine = create_engine(\"sqlite:///dog_recommender.sqlite\")"
   ]
  },
  {
   "cell_type": "code",
   "execution_count": 5,
   "metadata": {
    "collapsed": true
   },
   "outputs": [],
   "source": [
    "Base=declarative_base()"
   ]
  },
  {
   "cell_type": "code",
   "execution_count": 6,
   "metadata": {
    "collapsed": true
   },
   "outputs": [],
   "source": [
    "class Dog_breeds(Base):\n",
    "    \n",
    "    __tablename__ = 'dog_breed'\n",
    "    extend_existing=True\n",
    "    id = Column(Integer, primary_key=True, autoincrement=True)\n",
    "    Dog_Breed= Column(String(50))\n",
    "    Adapts_Well_to_Apartment_Living= Column(Integer)\n",
    "    Affectionate_with_Family= Column(Integer)\n",
    "    Amount_Of_Shedding= Column(Integer)\n",
    "    Dog_Friendly= Column(Integer)\n",
    "    Drooling_Potential= Column(Integer)\n",
    "    Easy_To_Groom= Column(Integer)\n",
    "    Easy_To_Train= Column(Integer)\n",
    "    Energy_Level= Column(Integer)\n",
    "    Exercise_Needs= Column(Integer)\n",
    "    Friendly_Toward_Strangers= Column(Integer)\n",
    "    General_Health= Column(Integer)\n",
    "    Good_For_Novice_Owners= Column(Integer)\n",
    "    Incredibly_Kid_Friendly_Dogs= Column(Integer)\n",
    "    Intelligence= Column(Integer)\n",
    "    Intensity= Column(Integer)\n",
    "    Potential_For_Mouthiness= Column(Integer)\n",
    "    Potential_For_Playfulness= Column(Integer)\n",
    "    Potential_For_Weight_Gain= Column(Integer)\n",
    "    Prey_Drive= Column(Integer)\n",
    "    Sensitivity_Level= Column(Integer)\n",
    "    Size= Column(Integer)\n",
    "    Tendency_To_Bark_Or_Howl= Column(Integer)\n",
    "    Tolerates_Being_Alone= Column(Integer)\n",
    "    Tolerates_Cold_Weather= Column(Integer)\n",
    "    Tolerates_Hot_Weather= Column(Integer)\n",
    "    Wanderlust_Potential= Column(Integer)\n",
    "\n",
    "    \n",
    "    def __repr__(self):\n",
    "        return f\"id={self.id}, name={self.Dog_Breed}\""
   ]
  },
  {
   "cell_type": "code",
   "execution_count": 7,
   "metadata": {
    "collapsed": true
   },
   "outputs": [],
   "source": [
    "class Lost_Dogs(Base):\n",
    "    \n",
    "    __tablename__ = 'lost_dogs'\n",
    "    id = Column(Integer, primary_key=True)\n",
    "    Pet_ID= Column(String(20))\n",
    "    Sex= Column(String(20))\n",
    "    Age= Column(Integer)\n",
    "    Weight= Column(Integer)\n",
    "    Color= Column(String)\n",
    "    Breed= Column(String)\n",
    "    Intake_Jurisdiction= Column(String)\n",
    "    Intake_Date= Column(String)\n",
    "\n",
    "\n",
    "        \n",
    "    def __repr__(self):\n",
    "        return f\"id={self.id}, name={self.Pet_ID}\""
   ]
  },
  {
   "cell_type": "code",
   "execution_count": 8,
   "metadata": {
    "collapsed": true
   },
   "outputs": [],
   "source": [
    "class Adoptable_Dogs(Base):\n",
    "    \n",
    "    __tablename__ = 'adoptable_dogs'\n",
    "    id = Column(Integer, primary_key=True)\n",
    "    Pet_ID= Column(String(20))\n",
    "    Sex= Column(String(20))\n",
    "    Age= Column(Integer)\n",
    "    Weight= Column(Integer)\n",
    "    Color= Column(String)\n",
    "    Breed= Column(String)\n",
    "    Intake_Jurisdiction= Column(String)\n",
    "    Intake_Date= Column(String)\n",
    "    link= Column(String)\n",
    "\n",
    "\n",
    "        \n",
    "    def __repr__(self):\n",
    "        return f\"id={self.id}, name={self.Pet_ID}\""
   ]
  },
  {
   "cell_type": "code",
   "execution_count": 9,
   "metadata": {
    "collapsed": true
   },
   "outputs": [],
   "source": [
    "Base.metadata.create_all(engine)"
   ]
  },
  {
   "cell_type": "code",
   "execution_count": 10,
   "metadata": {
    "collapsed": true
   },
   "outputs": [],
   "source": [
    "metadata = MetaData(bind=engine)\n",
    "conn = engine.connect()"
   ]
  },
  {
   "cell_type": "code",
   "execution_count": 11,
   "metadata": {},
   "outputs": [
    {
     "data": {
      "text/plain": [
       "['adoptable_dogs', 'dog_breed', 'lost_dogs']"
      ]
     },
     "execution_count": 11,
     "metadata": {},
     "output_type": "execute_result"
    }
   ],
   "source": [
    "engine.table_names()"
   ]
  },
  {
   "cell_type": "code",
   "execution_count": 12,
   "metadata": {
    "collapsed": true
   },
   "outputs": [],
   "source": [
    "adoption_data = adoption_df.to_dict(orient='records')"
   ]
  },
  {
   "cell_type": "code",
   "execution_count": 13,
   "metadata": {},
   "outputs": [
    {
     "data": {
      "text/plain": [
       "<sqlalchemy.engine.result.ResultProxy at 0x19f2c503470>"
      ]
     },
     "execution_count": 13,
     "metadata": {},
     "output_type": "execute_result"
    }
   ],
   "source": [
    "adoption_table = sqlalchemy.Table('adoptable_dogs', metadata, PrimaryKeyConstraint('id'),\n",
    "                            autoload=True, extend_existing=True)\n",
    "conn.execute(adoption_table.delete())\n",
    "conn.execute(adoption_table.insert(), adoption_data)"
   ]
  },
  {
   "cell_type": "code",
   "execution_count": 14,
   "metadata": {
    "collapsed": true
   },
   "outputs": [],
   "source": [
    "def populate_table(engine, table, csvfile):\n",
    "    \"\"\"Populates a table from a Pandas DataFrame.\"\"\"\n",
    "    # connect to the database\n",
    "    conn = engine.connect()\n",
    "    \n",
    "    # Load the CSV file into a pandas dataframe \n",
    "    df_of_data_to_insert = pd.read_csv(csvfile)\n",
    "    \n",
    "    # Orient='records' creates a list of data to write\n",
    "    # http://pandas-docs.github.io/pandas-docs-travis/io.html#orient-options\n",
    "    data = df_of_data_to_insert.to_dict(orient='records')\n",
    "\n",
    "    # Optional: Delete all rows in the table \n",
    "    conn.execute(table.delete())\n",
    "\n",
    "    # Insert the dataframe into the database in one bulk insert\n",
    "    conn.execute(table.insert(), data)\n",
    "    \n",
    "# Call the function to insert the data for each table\n",
    "populate_table(engine, Dog_breeds.__table__, 'Holly/dog_breed.csv')\n",
    "populate_table(engine, Lost_Dogs.__table__, 'Holly/lost_pups.csv')\n",
    "\n"
   ]
  },
  {
   "cell_type": "code",
   "execution_count": 15,
   "metadata": {},
   "outputs": [
    {
     "data": {
      "text/plain": [
       "[(1, 'Affenpinscher', 5, 5, 1, 4, 1, 3, 2, 4, 3, 3, 4, 4, 1, 4, 3, 4, 4, 3, 3, 3, 1, 2, 1, 3, 3, 2)]"
      ]
     },
     "execution_count": 15,
     "metadata": {},
     "output_type": "execute_result"
    }
   ],
   "source": [
    "#run query to test data\n",
    "engine.execute(\"SELECT * FROM dog_breed LIMIT 1\").fetchall()"
   ]
  },
  {
   "cell_type": "code",
   "execution_count": 16,
   "metadata": {
    "scrolled": true
   },
   "outputs": [
    {
     "data": {
      "text/plain": [
       "[(1, 'A1569847', 'M \\xa0', '1\\xa0Year \\xa0', '47.0 LBS \\xa0', 'BLACK WHITE \\xa0', 'AM PIT BULL TER \\xa0', 'ANAHEIM \\xa0', '4/6/2018 \\xa0')]"
      ]
     },
     "execution_count": 16,
     "metadata": {},
     "output_type": "execute_result"
    }
   ],
   "source": [
    "engine.execute(\"SELECT * FROM lost_dogs LIMIT 1\").fetchall()"
   ]
  },
  {
   "cell_type": "code",
   "execution_count": 17,
   "metadata": {},
   "outputs": [
    {
     "data": {
      "text/plain": [
       "[(1, 'A1571111', 'F', '2 Months', '19.5 LBS', 'WHITE', 'AIREDALE TERR MIX', 'TUSTIN', '4/15/2018', 'http://petadoption.ocpetinfo.com/rescuetrack/servicethumb.php?tab=lost&detailid=A1571111')]"
      ]
     },
     "execution_count": 17,
     "metadata": {},
     "output_type": "execute_result"
    }
   ],
   "source": [
    "engine.execute(\"SELECT * FROM adoptable_dogs LIMIT 1\").fetchall()"
   ]
  }
 ],
 "metadata": {
  "kernelspec": {
   "display_name": "Python 3",
   "language": "python",
   "name": "python3"
  },
  "language_info": {
   "codemirror_mode": {
    "name": "ipython",
    "version": 3
   },
   "file_extension": ".py",
   "mimetype": "text/x-python",
   "name": "python",
   "nbconvert_exporter": "python",
   "pygments_lexer": "ipython3",
   "version": "3.6.2"
  }
 },
 "nbformat": 4,
 "nbformat_minor": 2
}
