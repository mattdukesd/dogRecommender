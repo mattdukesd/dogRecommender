{
 "cells": [
  {
   "cell_type": "markdown",
   "metadata": {},
   "source": [
    "We need to make sure the breed as given by the pound is converted to a breed from dogtime. Let's try using the Levenshtein distance."
   ]
  },
  {
   "cell_type": "code",
   "execution_count": 37,
   "metadata": {
    "collapsed": true
   },
   "outputs": [],
   "source": [
    "import pandas as pd\n",
    "import numpy as np\n",
    "from Levenshtein import distance as LD"
   ]
  },
  {
   "cell_type": "code",
   "execution_count": 38,
   "metadata": {
    "collapsed": true
   },
   "outputs": [],
   "source": [
    "#User input desired scores\n",
    "x0 = np.array([3,3,3,3,3,3,3,3,3,3,3])"
   ]
  },
  {
   "cell_type": "code",
   "execution_count": 39,
   "metadata": {},
   "outputs": [
    {
     "name": "stderr",
     "output_type": "stream",
     "text": [
      "/Applications/anaconda3/lib/python3.6/site-packages/ipykernel_launcher.py:16: SettingWithCopyWarning: \n",
      "A value is trying to be set on a copy of a slice from a DataFrame.\n",
      "Try using .loc[row_indexer,col_indexer] = value instead\n",
      "\n",
      "See the caveats in the documentation: http://pandas.pydata.org/pandas-docs/stable/indexing.html#indexing-view-versus-copy\n",
      "  app.launch_new_instance()\n"
     ]
    }
   ],
   "source": [
    "breed_info = pd.read_csv(\"breed_info.csv\")\n",
    "breed_info = breed_info.drop(208)\n",
    "breed_list = [l.lower() for l in breed_info[\"Dog Breed\"]]\n",
    "breed_info_trunc = breed_info[[\"Dog Breed\",\n",
    "           \"Adapts Well to Apartment Living\",\n",
    "           \"Good For Novice Owners\",\n",
    "           \"Tolerates Being Alone\",\n",
    "           \"Incredibly Kid Friendly Dogs\",\n",
    "           \"Friendly Toward Strangers\",\n",
    "           \"Amount Of Shedding\",\n",
    "           \"Easy To Groom\",\n",
    "           \"Size\",\n",
    "           \"Intelligence\",\n",
    "           \"Tendency To Bark Or Howl\",\n",
    "           \"Exercise Needs\"] ]\n",
    "breed_info_trunc[\"Dog Breed\"] = breed_info_trunc[\"Dog Breed\"].map(lambda x: x.lower())\n",
    "\n",
    "\n",
    "\n",
    "\n",
    "dog_inventory = pd.read_csv(\"found_list.csv\", index_col=0)\n",
    "dog_inventory = dog_inventory.reset_index()\n",
    "dog_inventory = dog_inventory.drop([\"index\"],axis=1)\n",
    "breed_inventory = dog_inventory[\"Breed\"]"
   ]
  },
  {
   "cell_type": "code",
   "execution_count": 40,
   "metadata": {
    "collapsed": true
   },
   "outputs": [],
   "source": [
    "def breed_preprocess(s):\n",
    "    breed = s.lower()\n",
    "    if \"pit bull\" in breed:\n",
    "        breed = \"american pit bull terrirer\"\n",
    "    breed = breed.replace(\"germ sh \", \"german shorthaired \")\n",
    "    breed = {True: \"west highland white terrier\", False: breed}[breed == \"west highland\"]\n",
    "    breed = {True: \"poodle\", False: breed}[\"poodle\" in breed]\n",
    "    breed_split = breed.split()\n",
    "    for i in range(len(breed_split)):\n",
    "        breed_split[i] = {True: \"american\", False: breed_split[i] }[breed_split[i] == \"am\" ]\n",
    "        breed_split[i] = {True: \"terrier\", False: breed_split[i] }[breed_split[i] == \"ter\" ]\n",
    "        breed_split[i] = {True: \"terrier\", False: breed_split[i] }[breed_split[i] == \"terr\" ]\n",
    "        breed_split[i] = {True: \"german\", False: breed_split[i] }[breed_split[i] == \"germ\" ]\n",
    "        breed_split[i] = {True: \"miniature\", False: breed_split[i] }[breed_split[i] == \"min\" ]\n",
    "        breed_split[i] = {True: \"saint\", False: breed_split[i] }[breed_split[i] == \"st\" ]\n",
    "        breed_split[i] = {True: \"\", False: breed_split[i] }[breed_split[i] == \"mix\" ]\n",
    "        breed_split[i] = {True: \"australian\", False: breed_split[i] }[breed_split[i] == \"aust\" ]\n",
    "        breed_split[i] = {True: \"retriever\", False: breed_split[i] }[breed_split[i] == \"retr\" ]\n",
    "        \n",
    "    if \"miniature\" in breed_split:\n",
    "        breed_split.insert(0, breed_split.pop( breed_split.index(\"miniature\") ))\n",
    "    ret_string = breed_split[0]\n",
    "    for j in range(1,len(breed_split)):\n",
    "        ret_string = ret_string + \" \" + breed_split[j]\n",
    "    return ret_string\n",
    "    "
   ]
  },
  {
   "cell_type": "code",
   "execution_count": 41,
   "metadata": {
    "collapsed": true
   },
   "outputs": [],
   "source": [
    "def breed_fix(s):\n",
    "    s_new = breed_preprocess(s)\n",
    "    min_dist = 100\n",
    "    current_breed = \"\"\n",
    "    for breed in breed_list:\n",
    "        if LD(s_new, breed) < min_dist:\n",
    "            min_dist = LD(s_new, breed)\n",
    "            current_breed = breed\n",
    "            \n",
    "    \n",
    "    return current_breed"
   ]
  },
  {
   "cell_type": "code",
   "execution_count": 42,
   "metadata": {},
   "outputs": [],
   "source": [
    "dog_inventory[\"Mapped_Breed\"] = breed_inventory.map(breed_fix)"
   ]
  },
  {
   "cell_type": "code",
   "execution_count": 55,
   "metadata": {},
   "outputs": [],
   "source": [
    "user_breed_dist = []\n",
    "for dog in dog_inventory[\"Mapped_Breed\"]:\n",
    "    user_breed_dist.append((np.linalg.norm(breed_info_trunc.loc[breed_info_trunc[\"Dog Breed\"] == dog ].as_matrix()[0][1:12] - x0, 3)))"
   ]
  },
  {
   "cell_type": "code",
   "execution_count": 56,
   "metadata": {},
   "outputs": [],
   "source": [
    "dog_inventory[\"Recommendation Score\"] =  user_breed_dist"
   ]
  },
  {
   "cell_type": "code",
   "execution_count": 58,
   "metadata": {},
   "outputs": [
    {
     "data": {
      "text/html": [
       "<div>\n",
       "<style>\n",
       "    .dataframe thead tr:only-child th {\n",
       "        text-align: right;\n",
       "    }\n",
       "\n",
       "    .dataframe thead th {\n",
       "        text-align: left;\n",
       "    }\n",
       "\n",
       "    .dataframe tbody tr th {\n",
       "        vertical-align: top;\n",
       "    }\n",
       "</style>\n",
       "<table border=\"1\" class=\"dataframe\">\n",
       "  <thead>\n",
       "    <tr style=\"text-align: right;\">\n",
       "      <th></th>\n",
       "      <th>ID</th>\n",
       "      <th>Sex</th>\n",
       "      <th>Age</th>\n",
       "      <th>Weight</th>\n",
       "      <th>Color</th>\n",
       "      <th>Breed</th>\n",
       "      <th>Intake Jurisdiction</th>\n",
       "      <th>Intake Date</th>\n",
       "      <th>Mapped_Breed</th>\n",
       "      <th>Recommendation Score</th>\n",
       "    </tr>\n",
       "  </thead>\n",
       "  <tbody>\n",
       "    <tr>\n",
       "      <th>59</th>\n",
       "      <td>A1570429</td>\n",
       "      <td>F</td>\n",
       "      <td>3 Years</td>\n",
       "      <td>21.6 LBS</td>\n",
       "      <td>WHITE</td>\n",
       "      <td>POODLE MIN</td>\n",
       "      <td>SANTA ANA</td>\n",
       "      <td>4/10/2018</td>\n",
       "      <td>poodle</td>\n",
       "      <td>3.914868</td>\n",
       "    </tr>\n",
       "    <tr>\n",
       "      <th>60</th>\n",
       "      <td>A1570849</td>\n",
       "      <td>F</td>\n",
       "      <td>3 Years</td>\n",
       "      <td>12.0 LBS</td>\n",
       "      <td>GRAY TAN</td>\n",
       "      <td>POODLE MIN</td>\n",
       "      <td>YORBA LINDA</td>\n",
       "      <td>4/13/2018</td>\n",
       "      <td>poodle</td>\n",
       "      <td>3.914868</td>\n",
       "    </tr>\n",
       "    <tr>\n",
       "      <th>61</th>\n",
       "      <td>A1570850</td>\n",
       "      <td>M</td>\n",
       "      <td>2 Years</td>\n",
       "      <td>15.0 LBS</td>\n",
       "      <td>WHITE</td>\n",
       "      <td>POODLE MIN</td>\n",
       "      <td>SANTA ANA</td>\n",
       "      <td>4/13/2018</td>\n",
       "      <td>poodle</td>\n",
       "      <td>3.914868</td>\n",
       "    </tr>\n",
       "    <tr>\n",
       "      <th>62</th>\n",
       "      <td>A1568093</td>\n",
       "      <td>M</td>\n",
       "      <td>1 Year 1 Month</td>\n",
       "      <td>5.3 LBS</td>\n",
       "      <td>WHITE TAN</td>\n",
       "      <td>POODLE MIN MIX</td>\n",
       "      <td>TUSTIN</td>\n",
       "      <td>3/26/2018</td>\n",
       "      <td>poodle</td>\n",
       "      <td>3.914868</td>\n",
       "    </tr>\n",
       "    <tr>\n",
       "      <th>33</th>\n",
       "      <td>A1476015</td>\n",
       "      <td>F</td>\n",
       "      <td>7 Years</td>\n",
       "      <td>69.6 LBS</td>\n",
       "      <td>BR BRINDLE WHITE</td>\n",
       "      <td>LABRADOR RETR MIX</td>\n",
       "      <td>HUNTINGTON BCH</td>\n",
       "      <td>2/8/2018</td>\n",
       "      <td>labrador retriever</td>\n",
       "      <td>3.892996</td>\n",
       "    </tr>\n",
       "    <tr>\n",
       "      <th>32</th>\n",
       "      <td>A1570380</td>\n",
       "      <td>F</td>\n",
       "      <td>2 Years</td>\n",
       "      <td>63.0 LBS</td>\n",
       "      <td>BR BRINDLE</td>\n",
       "      <td>LABRADOR RETR</td>\n",
       "      <td>ANAHEIM</td>\n",
       "      <td>4/10/2018</td>\n",
       "      <td>labrador retriever</td>\n",
       "      <td>3.892996</td>\n",
       "    </tr>\n",
       "    <tr>\n",
       "      <th>24</th>\n",
       "      <td>A1570105</td>\n",
       "      <td>M</td>\n",
       "      <td>1 Year 6 Months</td>\n",
       "      <td>16.2 LBS</td>\n",
       "      <td>WHITE BLACK</td>\n",
       "      <td>DACHSHUND WH CAIRN TERRIER</td>\n",
       "      <td>ORANGE</td>\n",
       "      <td>4/7/2018</td>\n",
       "      <td>cairn terrier</td>\n",
       "      <td>3.732511</td>\n",
       "    </tr>\n",
       "    <tr>\n",
       "      <th>22</th>\n",
       "      <td>A1566935</td>\n",
       "      <td>M</td>\n",
       "      <td>3 Years</td>\n",
       "      <td>20.3 LBS</td>\n",
       "      <td>BROWN WHITE</td>\n",
       "      <td>DACHSHUND LH CHIHUAHUA SH</td>\n",
       "      <td>ANAHEIM</td>\n",
       "      <td>3/17/2018</td>\n",
       "      <td>chihuahua</td>\n",
       "      <td>3.732511</td>\n",
       "    </tr>\n",
       "    <tr>\n",
       "      <th>17</th>\n",
       "      <td>A1568373</td>\n",
       "      <td>F</td>\n",
       "      <td>8 Years</td>\n",
       "      <td>10.5 LBS</td>\n",
       "      <td>BLACK</td>\n",
       "      <td>CHIHUAHUA SH MIX</td>\n",
       "      <td>ANAHEIM</td>\n",
       "      <td>3/27/2018</td>\n",
       "      <td>chihuahua</td>\n",
       "      <td>3.732511</td>\n",
       "    </tr>\n",
       "    <tr>\n",
       "      <th>16</th>\n",
       "      <td>A1569518</td>\n",
       "      <td>M</td>\n",
       "      <td>25D</td>\n",
       "      <td>1.0 LBS</td>\n",
       "      <td>BLONDE</td>\n",
       "      <td>CHIHUAHUA SH MIX</td>\n",
       "      <td>SANTA ANA</td>\n",
       "      <td>4/4/2018</td>\n",
       "      <td>chihuahua</td>\n",
       "      <td>3.732511</td>\n",
       "    </tr>\n",
       "  </tbody>\n",
       "</table>\n",
       "</div>"
      ],
      "text/plain": [
       "          ID Sex              Age    Weight             Color  \\\n",
       "59  A1570429   F          3 Years  21.6 LBS             WHITE   \n",
       "60  A1570849   F          3 Years  12.0 LBS          GRAY TAN   \n",
       "61  A1570850   M          2 Years  15.0 LBS             WHITE   \n",
       "62  A1568093   M   1 Year 1 Month   5.3 LBS         WHITE TAN   \n",
       "33  A1476015   F          7 Years  69.6 LBS  BR BRINDLE WHITE   \n",
       "32  A1570380   F          2 Years  63.0 LBS        BR BRINDLE   \n",
       "24  A1570105   M  1 Year 6 Months  16.2 LBS       WHITE BLACK   \n",
       "22  A1566935   M          3 Years  20.3 LBS       BROWN WHITE   \n",
       "17  A1568373   F          8 Years  10.5 LBS             BLACK   \n",
       "16  A1569518   M              25D   1.0 LBS            BLONDE   \n",
       "\n",
       "                         Breed Intake Jurisdiction Intake Date  \\\n",
       "59                  POODLE MIN           SANTA ANA   4/10/2018   \n",
       "60                  POODLE MIN         YORBA LINDA   4/13/2018   \n",
       "61                  POODLE MIN           SANTA ANA   4/13/2018   \n",
       "62              POODLE MIN MIX              TUSTIN   3/26/2018   \n",
       "33           LABRADOR RETR MIX      HUNTINGTON BCH    2/8/2018   \n",
       "32               LABRADOR RETR             ANAHEIM   4/10/2018   \n",
       "24  DACHSHUND WH CAIRN TERRIER              ORANGE    4/7/2018   \n",
       "22   DACHSHUND LH CHIHUAHUA SH             ANAHEIM   3/17/2018   \n",
       "17            CHIHUAHUA SH MIX             ANAHEIM   3/27/2018   \n",
       "16            CHIHUAHUA SH MIX           SANTA ANA    4/4/2018   \n",
       "\n",
       "          Mapped_Breed  Recommendation Score  \n",
       "59              poodle              3.914868  \n",
       "60              poodle              3.914868  \n",
       "61              poodle              3.914868  \n",
       "62              poodle              3.914868  \n",
       "33  labrador retriever              3.892996  \n",
       "32  labrador retriever              3.892996  \n",
       "24       cairn terrier              3.732511  \n",
       "22           chihuahua              3.732511  \n",
       "17           chihuahua              3.732511  \n",
       "16           chihuahua              3.732511  "
      ]
     },
     "execution_count": 58,
     "metadata": {},
     "output_type": "execute_result"
    }
   ],
   "source": [
    "dog_inventory.sort_values(by = \"Recommendation Score\", ascending=False).head(10)"
   ]
  },
  {
   "cell_type": "code",
   "execution_count": 8,
   "metadata": {},
   "outputs": [],
   "source": [
    "#breed_matrix = breed_info_trunc.as_matrix()\n",
    "#def breed_rec(x):\n",
    "#    min_dist = 10000\n",
    "#    recommend_breed = ''\n",
    "#    for j in range(len(breed_matrix)):\n",
    "#        current_breed = breed_matrix[j][0]\n",
    "#        current_breed_data = breed_matrix[j][1:12]\n",
    "#        if np.linalg.norm(x - current_breed_data) < min_dist:\n",
    "#            min_dist = np.linalg.norm(x - current_breed_data)\n",
    "#            recommend_breed = current_breed\n",
    "#    return recommend_breed, min_dist\n",
    "        \n",
    "        "
   ]
  },
  {
   "cell_type": "code",
   "execution_count": 9,
   "metadata": {},
   "outputs": [],
   "source": [
    "#breed_rec_dict = {}\n",
    "#for j in range(len(breed_matrix)):\n",
    "#    current_breed = breed_matrix[j][0]\n",
    "#    current_breed_data = breed_matrix[j][1:12]\n",
    "#    dist = np.linalg.norm(x0 - current_breed_data)\n",
    "#    breed_rec_dict[current_breed] = dist"
   ]
  },
  {
   "cell_type": "code",
   "execution_count": null,
   "metadata": {},
   "outputs": [],
   "source": []
  },
  {
   "cell_type": "code",
   "execution_count": null,
   "metadata": {},
   "outputs": [],
   "source": []
  },
  {
   "cell_type": "code",
   "execution_count": 10,
   "metadata": {},
   "outputs": [],
   "source": []
  },
  {
   "cell_type": "code",
   "execution_count": null,
   "metadata": {},
   "outputs": [],
   "source": []
  },
  {
   "cell_type": "code",
   "execution_count": null,
   "metadata": {},
   "outputs": [],
   "source": []
  },
  {
   "cell_type": "code",
   "execution_count": null,
   "metadata": {
    "collapsed": true
   },
   "outputs": [],
   "source": []
  }
 ],
 "metadata": {
  "kernelspec": {
   "display_name": "Python 3",
   "language": "python",
   "name": "python3"
  },
  "language_info": {
   "codemirror_mode": {
    "name": "ipython",
    "version": 3
   },
   "file_extension": ".py",
   "mimetype": "text/x-python",
   "name": "python",
   "nbconvert_exporter": "python",
   "pygments_lexer": "ipython3",
   "version": "3.6.4"
  }
 },
 "nbformat": 4,
 "nbformat_minor": 2
}
